{
 "cells": [
  {
   "cell_type": "raw",
   "id": "7f0b5f61",
   "metadata": {
    "_cell_guid": "b1076dfc-b9ad-4769-8c92-a6c4dae69d19",
    "_uuid": "8f2839f25d086af736a60e9eeb907d3b93b6e0e5",
    "papermill": {
     "duration": 0.005269,
     "end_time": "2024-02-21T14:55:13.014989",
     "exception": false,
     "start_time": "2024-02-21T14:55:13.009720",
     "status": "completed"
    },
    "tags": []
   },
   "source": [
    "# This Python 3 environment comes with many helpful analytics libraries installed\n",
    "# It is defined by the kaggle/python Docker image: https://github.com/kaggle/docker-python\n",
    "# For example, here's several helpful packages to load\n",
    "\n",
    "import numpy as np # linear algebra\n",
    "import pandas as pd # data processing, CSV file I/O (e.g. pd.read_csv)\n",
    "\n",
    "# Input data files are available in the read-only \"../input/\" directory\n",
    "# For example, running this (by clicking run or pressing Shift+Enter) will list all files under the input directory\n",
    "\n",
    "import os\n",
    "for dirname, _, filenames in os.walk('/kaggle/input'):\n",
    "    for filename in filenames:\n",
    "        print(os.path.join(dirname, filename))\n",
    "\n",
    "# You can write up to 20GB to the current directory (/kaggle/working/) that gets preserved as output when you create a version using \"Save & Run All\" \n",
    "# You can also write temporary files to /kaggle/temp/, but they won't be saved outside of the current session"
   ]
  },
  {
   "cell_type": "code",
   "execution_count": 1,
   "id": "5ec64cae",
   "metadata": {
    "execution": {
     "iopub.execute_input": "2024-02-21T14:55:13.026510Z",
     "iopub.status.busy": "2024-02-21T14:55:13.025626Z",
     "iopub.status.idle": "2024-02-21T14:55:28.594035Z",
     "shell.execute_reply": "2024-02-21T14:55:28.593006Z"
    },
    "papermill": {
     "duration": 15.576917,
     "end_time": "2024-02-21T14:55:28.596611",
     "exception": false,
     "start_time": "2024-02-21T14:55:13.019694",
     "status": "completed"
    },
    "tags": []
   },
   "outputs": [
    {
     "name": "stderr",
     "output_type": "stream",
     "text": [
      "2024-02-21 14:55:17.353751: E external/local_xla/xla/stream_executor/cuda/cuda_dnn.cc:9261] Unable to register cuDNN factory: Attempting to register factory for plugin cuDNN when one has already been registered\n",
      "2024-02-21 14:55:17.353854: E external/local_xla/xla/stream_executor/cuda/cuda_fft.cc:607] Unable to register cuFFT factory: Attempting to register factory for plugin cuFFT when one has already been registered\n",
      "2024-02-21 14:55:17.491829: E external/local_xla/xla/stream_executor/cuda/cuda_blas.cc:1515] Unable to register cuBLAS factory: Attempting to register factory for plugin cuBLAS when one has already been registered\n"
     ]
    }
   ],
   "source": [
    "import os\n",
    "import cv2\n",
    "import random\n",
    "import time \n",
    "\n",
    "import numpy as np\n",
    "import pandas as pd\n",
    "import seaborn as sns\n",
    "import numpy as np\n",
    "import plotly.express as px\n",
    "import matplotlib.pyplot as plt\n",
    "\n",
    "\n",
    "import tensorflow as tf\n",
    "from tensorflow.keras import regularizers\n",
    "from tensorflow.keras import layers, Sequential\n",
    "from tensorflow.keras.utils import plot_model\n",
    "from tensorflow.keras.optimizers import Adam, Adamax\n",
    "from tensorflow.keras.preprocessing.image import ImageDataGenerator\n",
    "from tensorflow.keras.applications import *\n",
    "from tensorflow.keras.models import *\n",
    "\n",
    "\n",
    "from sklearn.preprocessing import LabelEncoder\n",
    "from sklearn.model_selection import train_test_split\n",
    "from sklearn.metrics import classification_report, precision_recall_fscore_support\n",
    "from sklearn.metrics import accuracy_score, top_k_accuracy_score, f1_score, matthews_corrcoef\n",
    "from sklearn.metrics import confusion_matrix, ConfusionMatrixDisplay"
   ]
  },
  {
   "cell_type": "code",
   "execution_count": 2,
   "id": "00ed8a35",
   "metadata": {
    "execution": {
     "iopub.execute_input": "2024-02-21T14:55:28.607435Z",
     "iopub.status.busy": "2024-02-21T14:55:28.606810Z",
     "iopub.status.idle": "2024-02-21T14:55:28.612071Z",
     "shell.execute_reply": "2024-02-21T14:55:28.611304Z"
    },
    "papermill": {
     "duration": 0.01254,
     "end_time": "2024-02-21T14:55:28.613892",
     "exception": false,
     "start_time": "2024-02-21T14:55:28.601352",
     "status": "completed"
    },
    "tags": []
   },
   "outputs": [],
   "source": [
    "%matplotlib inline"
   ]
  },
  {
   "cell_type": "code",
   "execution_count": 3,
   "id": "c062f257",
   "metadata": {
    "execution": {
     "iopub.execute_input": "2024-02-21T14:55:28.624011Z",
     "iopub.status.busy": "2024-02-21T14:55:28.623331Z",
     "iopub.status.idle": "2024-02-21T14:55:28.627294Z",
     "shell.execute_reply": "2024-02-21T14:55:28.626493Z"
    },
    "papermill": {
     "duration": 0.010883,
     "end_time": "2024-02-21T14:55:28.629119",
     "exception": false,
     "start_time": "2024-02-21T14:55:28.618236",
     "status": "completed"
    },
    "tags": []
   },
   "outputs": [],
   "source": [
    "import warnings\n",
    "warnings.filterwarnings('ignore', category=UserWarning)"
   ]
  },
  {
   "cell_type": "code",
   "execution_count": 4,
   "id": "1946d155",
   "metadata": {
    "execution": {
     "iopub.execute_input": "2024-02-21T14:55:28.638676Z",
     "iopub.status.busy": "2024-02-21T14:55:28.638372Z",
     "iopub.status.idle": "2024-02-21T14:55:28.650877Z",
     "shell.execute_reply": "2024-02-21T14:55:28.650094Z"
    },
    "papermill": {
     "duration": 0.019361,
     "end_time": "2024-02-21T14:55:28.652770",
     "exception": false,
     "start_time": "2024-02-21T14:55:28.633409",
     "status": "completed"
    },
    "tags": []
   },
   "outputs": [
    {
     "data": {
      "text/plain": [
       "44"
      ]
     },
     "execution_count": 4,
     "metadata": {},
     "output_type": "execute_result"
    }
   ],
   "source": [
    "len(os.listdir('/kaggle/input/brain-tumor-mri-images-44c/'))"
   ]
  },
  {
   "cell_type": "code",
   "execution_count": 5,
   "id": "bdb2bdda",
   "metadata": {
    "execution": {
     "iopub.execute_input": "2024-02-21T14:55:28.662743Z",
     "iopub.status.busy": "2024-02-21T14:55:28.662470Z",
     "iopub.status.idle": "2024-02-21T14:55:28.666138Z",
     "shell.execute_reply": "2024-02-21T14:55:28.665377Z"
    },
    "papermill": {
     "duration": 0.0107,
     "end_time": "2024-02-21T14:55:28.668017",
     "exception": false,
     "start_time": "2024-02-21T14:55:28.657317",
     "status": "completed"
    },
    "tags": []
   },
   "outputs": [],
   "source": [
    "data_path= \"/kaggle/input/brain-tumor-mri-images-44c\""
   ]
  },
  {
   "cell_type": "code",
   "execution_count": 6,
   "id": "e66debd4",
   "metadata": {
    "execution": {
     "iopub.execute_input": "2024-02-21T14:55:28.677765Z",
     "iopub.status.busy": "2024-02-21T14:55:28.677507Z",
     "iopub.status.idle": "2024-02-21T14:55:28.684910Z",
     "shell.execute_reply": "2024-02-21T14:55:28.684182Z"
    },
    "papermill": {
     "duration": 0.014295,
     "end_time": "2024-02-21T14:55:28.686754",
     "exception": false,
     "start_time": "2024-02-21T14:55:28.672459",
     "status": "completed"
    },
    "tags": []
   },
   "outputs": [],
   "source": [
    "df = pd.DataFrame(columns=['path','label'])"
   ]
  },
  {
   "cell_type": "code",
   "execution_count": 7,
   "id": "d9f2f97a",
   "metadata": {
    "execution": {
     "iopub.execute_input": "2024-02-21T14:55:28.696774Z",
     "iopub.status.busy": "2024-02-21T14:55:28.696511Z",
     "iopub.status.idle": "2024-02-21T14:55:28.702120Z",
     "shell.execute_reply": "2024-02-21T14:55:28.701381Z"
    },
    "papermill": {
     "duration": 0.012739,
     "end_time": "2024-02-21T14:55:28.703940",
     "exception": false,
     "start_time": "2024-02-21T14:55:28.691201",
     "status": "completed"
    },
    "tags": []
   },
   "outputs": [],
   "source": [
    "folder = os.listdir(data_path)\n",
    "def create_df(df):\n",
    "    for fold in folder:\n",
    "        class_path = os.path.join(data_path,fold)\n",
    "        class_folder = os.listdir(class_path)\n",
    "        for img in class_folder:\n",
    "            img_path = os.path.join(class_path,img)\n",
    "            df = df._append({'path':os.path.join(class_path,img) , 'label' : fold.split(' ')[0]},ignore_index=True)\n",
    "    return df"
   ]
  },
  {
   "cell_type": "code",
   "execution_count": 8,
   "id": "f8f70f2e",
   "metadata": {
    "execution": {
     "iopub.execute_input": "2024-02-21T14:55:28.713701Z",
     "iopub.status.busy": "2024-02-21T14:55:28.713396Z",
     "iopub.status.idle": "2024-02-21T14:55:33.274253Z",
     "shell.execute_reply": "2024-02-21T14:55:33.273143Z"
    },
    "papermill": {
     "duration": 4.568227,
     "end_time": "2024-02-21T14:55:33.276561",
     "exception": false,
     "start_time": "2024-02-21T14:55:28.708334",
     "status": "completed"
    },
    "tags": []
   },
   "outputs": [
    {
     "data": {
      "text/html": [
       "<div>\n",
       "<style scoped>\n",
       "    .dataframe tbody tr th:only-of-type {\n",
       "        vertical-align: middle;\n",
       "    }\n",
       "\n",
       "    .dataframe tbody tr th {\n",
       "        vertical-align: top;\n",
       "    }\n",
       "\n",
       "    .dataframe thead th {\n",
       "        text-align: right;\n",
       "    }\n",
       "</style>\n",
       "<table border=\"1\" class=\"dataframe\">\n",
       "  <thead>\n",
       "    <tr style=\"text-align: right;\">\n",
       "      <th></th>\n",
       "      <th>path</th>\n",
       "      <th>label</th>\n",
       "    </tr>\n",
       "  </thead>\n",
       "  <tbody>\n",
       "    <tr>\n",
       "      <th>0</th>\n",
       "      <td>/kaggle/input/brain-tumor-mri-images-44c/Papil...</td>\n",
       "      <td>Papiloma</td>\n",
       "    </tr>\n",
       "    <tr>\n",
       "      <th>1</th>\n",
       "      <td>/kaggle/input/brain-tumor-mri-images-44c/Papil...</td>\n",
       "      <td>Papiloma</td>\n",
       "    </tr>\n",
       "    <tr>\n",
       "      <th>2</th>\n",
       "      <td>/kaggle/input/brain-tumor-mri-images-44c/Papil...</td>\n",
       "      <td>Papiloma</td>\n",
       "    </tr>\n",
       "    <tr>\n",
       "      <th>3</th>\n",
       "      <td>/kaggle/input/brain-tumor-mri-images-44c/Papil...</td>\n",
       "      <td>Papiloma</td>\n",
       "    </tr>\n",
       "    <tr>\n",
       "      <th>4</th>\n",
       "      <td>/kaggle/input/brain-tumor-mri-images-44c/Papil...</td>\n",
       "      <td>Papiloma</td>\n",
       "    </tr>\n",
       "  </tbody>\n",
       "</table>\n",
       "</div>"
      ],
      "text/plain": [
       "                                                path     label\n",
       "0  /kaggle/input/brain-tumor-mri-images-44c/Papil...  Papiloma\n",
       "1  /kaggle/input/brain-tumor-mri-images-44c/Papil...  Papiloma\n",
       "2  /kaggle/input/brain-tumor-mri-images-44c/Papil...  Papiloma\n",
       "3  /kaggle/input/brain-tumor-mri-images-44c/Papil...  Papiloma\n",
       "4  /kaggle/input/brain-tumor-mri-images-44c/Papil...  Papiloma"
      ]
     },
     "execution_count": 8,
     "metadata": {},
     "output_type": "execute_result"
    }
   ],
   "source": [
    "df = create_df(df)\n",
    "df.head()"
   ]
  },
  {
   "cell_type": "code",
   "execution_count": 9,
   "id": "4bf30b8e",
   "metadata": {
    "execution": {
     "iopub.execute_input": "2024-02-21T14:55:33.301836Z",
     "iopub.status.busy": "2024-02-21T14:55:33.301443Z",
     "iopub.status.idle": "2024-02-21T14:55:33.316343Z",
     "shell.execute_reply": "2024-02-21T14:55:33.315488Z"
    },
    "papermill": {
     "duration": 0.027764,
     "end_time": "2024-02-21T14:55:33.319124",
     "exception": false,
     "start_time": "2024-02-21T14:55:33.291360",
     "status": "completed"
    },
    "tags": []
   },
   "outputs": [],
   "source": [
    "label_counts = df['label'].value_counts().sort_values(ascending=False)\n",
    "sorted_label = label_counts.index"
   ]
  },
  {
   "cell_type": "code",
   "execution_count": 10,
   "id": "0d7ff584",
   "metadata": {
    "execution": {
     "iopub.execute_input": "2024-02-21T14:55:33.334564Z",
     "iopub.status.busy": "2024-02-21T14:55:33.334237Z",
     "iopub.status.idle": "2024-02-21T14:55:33.613453Z",
     "shell.execute_reply": "2024-02-21T14:55:33.612482Z"
    },
    "papermill": {
     "duration": 0.289211,
     "end_time": "2024-02-21T14:55:33.615773",
     "exception": false,
     "start_time": "2024-02-21T14:55:33.326562",
     "status": "completed"
    },
    "tags": []
   },
   "outputs": [
    {
     "data": {
      "image/png": "[encoded data removed]",
      "text/plain": [
       "<Figure size 1000x600 with 1 Axes>"
      ]
     },
     "metadata": {},
     "output_type": "display_data"
    }
   ],
   "source": [
    "plt.figure(figsize=(10,6))\n",
    "sns.barplot(x=label_counts.values, y=sorted_label)\n",
    "plt.show()"
   ]
  },
  {
   "cell_type": "code",
   "execution_count": null,
   "id": "4ec8d7d5",
   "metadata": {
    "papermill": {
     "duration": 0.005406,
     "end_time": "2024-02-21T14:55:33.626561",
     "exception": false,
     "start_time": "2024-02-21T14:55:33.621155",
     "status": "completed"
    },
    "tags": []
   },
   "outputs": [],
   "source": []
  },
  {
   "cell_type": "code",
   "execution_count": null,
   "id": "b32b7096",
   "metadata": {
    "papermill": {
     "duration": 0.004988,
     "end_time": "2024-02-21T14:55:33.636680",
     "exception": false,
     "start_time": "2024-02-21T14:55:33.631692",
     "status": "completed"
    },
    "tags": []
   },
   "outputs": [],
   "source": []
  },
  {
   "cell_type": "code",
   "execution_count": null,
   "id": "4149138c",
   "metadata": {
    "papermill": {
     "duration": 0.005939,
     "end_time": "2024-02-21T14:55:33.647681",
     "exception": false,
     "start_time": "2024-02-21T14:55:33.641742",
     "status": "completed"
    },
    "tags": []
   },
   "outputs": [],
   "source": []
  },
  {
   "cell_type": "code",
   "execution_count": null,
   "id": "a26b92ef",
   "metadata": {
    "papermill": {
     "duration": 0.005021,
     "end_time": "2024-02-21T14:55:33.658054",
     "exception": false,
     "start_time": "2024-02-21T14:55:33.653033",
     "status": "completed"
    },
    "tags": []
   },
   "outputs": [],
   "source": []
  }
 ],
 "metadata": {
  "kaggle": {
   "accelerator": "gpu",
   "dataSources": [
    {
     "datasetId": 2892866,
     "sourceId": 4987732,
     "sourceType": "datasetVersion"
    }
   ],
   "dockerImageVersionId": 30648,
   "isGpuEnabled": true,
   "isInternetEnabled": true,
   "language": "python",
   "sourceType": "notebook"
  },
  "kernelspec": {
   "display_name": "Python 3",
   "language": "python",
   "name": "python3"
  },
  "language_info": {
   "codemirror_mode": {
    "name": "ipython",
    "version": 3
   },
   "file_extension": ".py",
   "mimetype": "text/x-python",
   "name": "python",
   "nbconvert_exporter": "python",
   "pygments_lexer": "ipython3",
   "version": "3.10.13"
  },
  "papermill": {
   "default_parameters": {},
   "duration": 25.171057,
   "end_time": "2024-02-21T14:55:35.284905",
   "environment_variables": {},
   "exception": null,
   "input_path": "__notebook__.ipynb",
   "output_path": "__notebook__.ipynb",
   "parameters": {},
   "start_time": "2024-02-21T14:55:10.113848",
   "version": "2.5.0"
  }
 },
 "nbformat": 4,
 "nbformat_minor": 5
}
