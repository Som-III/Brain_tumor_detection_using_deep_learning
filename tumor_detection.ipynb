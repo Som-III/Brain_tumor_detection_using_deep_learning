{
 "cells": [
  {
   "cell_type": "raw",
   "id": "8bfac8af",
   "metadata": {
    "_cell_guid": "b1076dfc-b9ad-4769-8c92-a6c4dae69d19",
    "_uuid": "8f2839f25d086af736a60e9eeb907d3b93b6e0e5",
    "papermill": {
     "duration": 0.011537,
     "end_time": "2024-03-15T13:47:15.848487",
     "exception": false,
     "start_time": "2024-03-15T13:47:15.836950",
     "status": "completed"
    },
    "tags": []
   },
   "source": [
    "# This Python 3 environment comes with many helpful analytics libraries installed\n",
    "# It is defined by the kaggle/python Docker image: https://github.com/kaggle/docker-python\n",
    "# For example, here's several helpful packages to load\n",
    "\n",
    "import numpy as np # linear algebra\n",
    "import pandas as pd # data processing, CSV file I/O (e.g. pd.read_csv)\n",
    "\n",
    "# Input data files are available in the read-only \"../input/\" directory\n",
    "# For example, running this (by clicking run or pressing Shift+Enter) will list all files under the input directory\n",
    "\n",
    "import os\n",
    "for dirname, _, filenames in os.walk('/kaggle/input'):\n",
    "    for filename in filenames:\n",
    "        print(os.path.join(dirname, filename))\n",
    "\n",
    "# You can write up to 20GB to the current directory (/kaggle/working/) that gets preserved as output when you create a version using \"Save & Run All\" \n",
    "# You can also write temporary files to /kaggle/temp/, but they won't be saved outside of the current session"
   ]
  },
  {
   "cell_type": "code",
   "execution_count": 1,
   "id": "b00536a7",
   "metadata": {
    "execution": {
     "iopub.execute_input": "2024-03-15T13:47:15.872165Z",
     "iopub.status.busy": "2024-03-15T13:47:15.871799Z",
     "iopub.status.idle": "2024-03-15T13:47:30.166149Z",
     "shell.execute_reply": "2024-03-15T13:47:30.165339Z"
    },
    "papermill": {
     "duration": 14.309047,
     "end_time": "2024-03-15T13:47:30.168525",
     "exception": false,
     "start_time": "2024-03-15T13:47:15.859478",
     "status": "completed"
    },
    "tags": []
   },
   "outputs": [
    {
     "name": "stderr",
     "output_type": "stream",
     "text": [
      "2024-03-15 13:47:19.880300: E external/local_xla/xla/stream_executor/cuda/cuda_dnn.cc:9261] Unable to register cuDNN factory: Attempting to register factory for plugin cuDNN when one has already been registered\n",
      "2024-03-15 13:47:19.880393: E external/local_xla/xla/stream_executor/cuda/cuda_fft.cc:607] Unable to register cuFFT factory: Attempting to register factory for plugin cuFFT when one has already been registered\n",
      "2024-03-15 13:47:19.987500: E external/local_xla/xla/stream_executor/cuda/cuda_blas.cc:1515] Unable to register cuBLAS factory: Attempting to register factory for plugin cuBLAS when one has already been registered\n"
     ]
    }
   ],
   "source": [
    "import os\n",
    "import cv2\n",
    "import random\n",
    "import time \n",
    "\n",
    "import numpy as np\n",
    "import pandas as pd\n",
    "import seaborn as sns\n",
    "import numpy as np\n",
    "import plotly.express as px\n",
    "import matplotlib.pyplot as plt\n",
    "\n",
    "\n",
    "import tensorflow as tf\n",
    "from tensorflow.keras import regularizers\n",
    "from tensorflow.keras import layers, Sequential\n",
    "from tensorflow.keras.utils import plot_model\n",
    "from tensorflow.keras.optimizers import Adam, Adamax\n",
    "from tensorflow.keras.preprocessing.image import ImageDataGenerator\n",
    "from tensorflow.keras.applications import *\n",
    "from tensorflow.keras.models import *\n",
    "\n",
    "from sklearn.model_selection import train_test_split,KFold\n",
    "from sklearn.metrics import classification_report, precision_recall_fscore_support\n",
    "from sklearn.metrics import accuracy_score, top_k_accuracy_score, f1_score, matthews_corrcoef\n",
    "from sklearn.metrics import confusion_matrix, ConfusionMatrixDisplay\n",
    "\n",
    "import warnings\n",
    "warnings.filterwarnings('ignore', category=UserWarning)"
   ]
  },
  {
   "cell_type": "code",
   "execution_count": 2,
   "id": "e820488d",
   "metadata": {
    "execution": {
     "iopub.execute_input": "2024-03-15T13:47:30.192403Z",
     "iopub.status.busy": "2024-03-15T13:47:30.191808Z",
     "iopub.status.idle": "2024-03-15T13:47:30.196861Z",
     "shell.execute_reply": "2024-03-15T13:47:30.196087Z"
    },
    "papermill": {
     "duration": 0.018794,
     "end_time": "2024-03-15T13:47:30.198766",
     "exception": false,
     "start_time": "2024-03-15T13:47:30.179972",
     "status": "completed"
    },
    "tags": []
   },
   "outputs": [],
   "source": [
    "%matplotlib inline"
   ]
  },
  {
   "cell_type": "code",
   "execution_count": 3,
   "id": "f781caca",
   "metadata": {
    "execution": {
     "iopub.execute_input": "2024-03-15T13:47:30.222461Z",
     "iopub.status.busy": "2024-03-15T13:47:30.222143Z",
     "iopub.status.idle": "2024-03-15T13:47:30.227036Z",
     "shell.execute_reply": "2024-03-15T13:47:30.226132Z"
    },
    "papermill": {
     "duration": 0.019901,
     "end_time": "2024-03-15T13:47:30.229616",
     "exception": false,
     "start_time": "2024-03-15T13:47:30.209715",
     "status": "completed"
    },
    "tags": []
   },
   "outputs": [],
   "source": [
    "img_size = (150,150)\n",
    "BATCH = 32"
   ]
  },
  {
   "cell_type": "code",
   "execution_count": 4,
   "id": "fa2d208d",
   "metadata": {
    "execution": {
     "iopub.execute_input": "2024-03-15T13:47:30.254963Z",
     "iopub.status.busy": "2024-03-15T13:47:30.254696Z",
     "iopub.status.idle": "2024-03-15T13:47:30.314711Z",
     "shell.execute_reply": "2024-03-15T13:47:30.313849Z"
    },
    "papermill": {
     "duration": 0.073753,
     "end_time": "2024-03-15T13:47:30.316567",
     "exception": false,
     "start_time": "2024-03-15T13:47:30.242814",
     "status": "completed"
    },
    "tags": []
   },
   "outputs": [
    {
     "data": {
      "text/plain": [
       "44"
      ]
     },
     "execution_count": 4,
     "metadata": {},
     "output_type": "execute_result"
    }
   ],
   "source": [
    "len(os.listdir('/kaggle/input/brain-tumor-mri-images-44c/'))"
   ]
  },
  {
   "cell_type": "code",
   "execution_count": 5,
   "id": "117419db",
   "metadata": {
    "execution": {
     "iopub.execute_input": "2024-03-15T13:47:30.339648Z",
     "iopub.status.busy": "2024-03-15T13:47:30.339385Z",
     "iopub.status.idle": "2024-03-15T13:47:30.343240Z",
     "shell.execute_reply": "2024-03-15T13:47:30.342382Z"
    },
    "papermill": {
     "duration": 0.017657,
     "end_time": "2024-03-15T13:47:30.345106",
     "exception": false,
     "start_time": "2024-03-15T13:47:30.327449",
     "status": "completed"
    },
    "tags": []
   },
   "outputs": [],
   "source": [
    "data_path= \"/kaggle/input/brain-tumor-mri-images-44c\""
   ]
  },
  {
   "cell_type": "code",
   "execution_count": 6,
   "id": "94e8771b",
   "metadata": {
    "execution": {
     "iopub.execute_input": "2024-03-15T13:47:30.367973Z",
     "iopub.status.busy": "2024-03-15T13:47:30.367711Z",
     "iopub.status.idle": "2024-03-15T13:47:30.375093Z",
     "shell.execute_reply": "2024-03-15T13:47:30.374250Z"
    },
    "papermill": {
     "duration": 0.021004,
     "end_time": "2024-03-15T13:47:30.376969",
     "exception": false,
     "start_time": "2024-03-15T13:47:30.355965",
     "status": "completed"
    },
    "tags": []
   },
   "outputs": [],
   "source": [
    "df = pd.DataFrame(columns=['path','label'])"
   ]
  },
  {
   "cell_type": "code",
   "execution_count": 7,
   "id": "afda8492",
   "metadata": {
    "execution": {
     "iopub.execute_input": "2024-03-15T13:47:30.407197Z",
     "iopub.status.busy": "2024-03-15T13:47:30.406617Z",
     "iopub.status.idle": "2024-03-15T13:47:30.417961Z",
     "shell.execute_reply": "2024-03-15T13:47:30.416750Z"
    },
    "papermill": {
     "duration": 0.028866,
     "end_time": "2024-03-15T13:47:30.420663",
     "exception": false,
     "start_time": "2024-03-15T13:47:30.391797",
     "status": "completed"
    },
    "tags": []
   },
   "outputs": [],
   "source": [
    "folder = os.listdir(data_path)\n",
    "def create_df(df,folder,data_path):\n",
    "    for fold in folder:\n",
    "        class_path = os.path.join(data_path,fold)\n",
    "        class_folder = os.listdir(class_path)\n",
    "        for img in class_folder:\n",
    "            img_path = os.path.join(class_path,img)\n",
    "            df = df._append({'path':os.path.join(class_path,img) , 'label' : fold.split()[1]},ignore_index=True)\n",
    "    return df"
   ]
  },
  {
   "cell_type": "code",
   "execution_count": 8,
   "id": "632279db",
   "metadata": {
    "execution": {
     "iopub.execute_input": "2024-03-15T13:47:30.448246Z",
     "iopub.status.busy": "2024-03-15T13:47:30.447784Z",
     "iopub.status.idle": "2024-03-15T13:47:36.006649Z",
     "shell.execute_reply": "2024-03-15T13:47:36.005743Z"
    },
    "papermill": {
     "duration": 5.575313,
     "end_time": "2024-03-15T13:47:36.008662",
     "exception": false,
     "start_time": "2024-03-15T13:47:30.433349",
     "status": "completed"
    },
    "tags": []
   },
   "outputs": [
    {
     "data": {
      "text/html": [
       "<div>\n",
       "<style scoped>\n",
       "    .dataframe tbody tr th:only-of-type {\n",
       "        vertical-align: middle;\n",
       "    }\n",
       "\n",
       "    .dataframe tbody tr th {\n",
       "        vertical-align: top;\n",
       "    }\n",
       "\n",
       "    .dataframe thead th {\n",
       "        text-align: right;\n",
       "    }\n",
       "</style>\n",
       "<table border=\"1\" class=\"dataframe\">\n",
       "  <thead>\n",
       "    <tr style=\"text-align: right;\">\n",
       "      <th></th>\n",
       "      <th>path</th>\n",
       "      <th>label</th>\n",
       "    </tr>\n",
       "  </thead>\n",
       "  <tbody>\n",
       "    <tr>\n",
       "      <th>0</th>\n",
       "      <td>/kaggle/input/brain-tumor-mri-images-44c/Papil...</td>\n",
       "      <td>T2</td>\n",
       "    </tr>\n",
       "    <tr>\n",
       "      <th>1</th>\n",
       "      <td>/kaggle/input/brain-tumor-mri-images-44c/Papil...</td>\n",
       "      <td>T2</td>\n",
       "    </tr>\n",
       "    <tr>\n",
       "      <th>2</th>\n",
       "      <td>/kaggle/input/brain-tumor-mri-images-44c/Papil...</td>\n",
       "      <td>T2</td>\n",
       "    </tr>\n",
       "    <tr>\n",
       "      <th>3</th>\n",
       "      <td>/kaggle/input/brain-tumor-mri-images-44c/Papil...</td>\n",
       "      <td>T2</td>\n",
       "    </tr>\n",
       "    <tr>\n",
       "      <th>4</th>\n",
       "      <td>/kaggle/input/brain-tumor-mri-images-44c/Papil...</td>\n",
       "      <td>T2</td>\n",
       "    </tr>\n",
       "  </tbody>\n",
       "</table>\n",
       "</div>"
      ],
      "text/plain": [
       "                                                path label\n",
       "0  /kaggle/input/brain-tumor-mri-images-44c/Papil...    T2\n",
       "1  /kaggle/input/brain-tumor-mri-images-44c/Papil...    T2\n",
       "2  /kaggle/input/brain-tumor-mri-images-44c/Papil...    T2\n",
       "3  /kaggle/input/brain-tumor-mri-images-44c/Papil...    T2\n",
       "4  /kaggle/input/brain-tumor-mri-images-44c/Papil...    T2"
      ]
     },
     "execution_count": 8,
     "metadata": {},
     "output_type": "execute_result"
    }
   ],
   "source": [
    "df = create_df(df,folder,data_path)\n",
    "df.head()"
   ]
  },
  {
   "cell_type": "code",
   "execution_count": 9,
   "id": "4cf4e6d5",
   "metadata": {
    "execution": {
     "iopub.execute_input": "2024-03-15T13:47:36.032772Z",
     "iopub.status.busy": "2024-03-15T13:47:36.032472Z",
     "iopub.status.idle": "2024-03-15T13:47:36.037903Z",
     "shell.execute_reply": "2024-03-15T13:47:36.037055Z"
    },
    "papermill": {
     "duration": 0.019717,
     "end_time": "2024-03-15T13:47:36.039765",
     "exception": false,
     "start_time": "2024-03-15T13:47:36.020048",
     "status": "completed"
    },
    "tags": []
   },
   "outputs": [
    {
     "data": {
      "text/plain": [
       "(4479, 2)"
      ]
     },
     "execution_count": 9,
     "metadata": {},
     "output_type": "execute_result"
    }
   ],
   "source": [
    "df.shape"
   ]
  },
  {
   "cell_type": "code",
   "execution_count": 10,
   "id": "744cfccd",
   "metadata": {
    "execution": {
     "iopub.execute_input": "2024-03-15T13:47:36.063430Z",
     "iopub.status.busy": "2024-03-15T13:47:36.063151Z",
     "iopub.status.idle": "2024-03-15T13:47:36.066722Z",
     "shell.execute_reply": "2024-03-15T13:47:36.065894Z"
    },
    "papermill": {
     "duration": 0.017364,
     "end_time": "2024-03-15T13:47:36.068491",
     "exception": false,
     "start_time": "2024-03-15T13:47:36.051127",
     "status": "completed"
    },
    "tags": []
   },
   "outputs": [],
   "source": [
    "#df.to_pickle('initial_dataset.pkl')\n"
   ]
  },
  {
   "cell_type": "code",
   "execution_count": 11,
   "id": "9d355ea0",
   "metadata": {
    "execution": {
     "iopub.execute_input": "2024-03-15T13:47:36.091989Z",
     "iopub.status.busy": "2024-03-15T13:47:36.091730Z",
     "iopub.status.idle": "2024-03-15T13:47:36.099990Z",
     "shell.execute_reply": "2024-03-15T13:47:36.099192Z"
    },
    "papermill": {
     "duration": 0.022351,
     "end_time": "2024-03-15T13:47:36.102040",
     "exception": false,
     "start_time": "2024-03-15T13:47:36.079689",
     "status": "completed"
    },
    "tags": []
   },
   "outputs": [
    {
     "data": {
      "text/html": [
       "<div>\n",
       "<style scoped>\n",
       "    .dataframe tbody tr th:only-of-type {\n",
       "        vertical-align: middle;\n",
       "    }\n",
       "\n",
       "    .dataframe tbody tr th {\n",
       "        vertical-align: top;\n",
       "    }\n",
       "\n",
       "    .dataframe thead th {\n",
       "        text-align: right;\n",
       "    }\n",
       "</style>\n",
       "<table border=\"1\" class=\"dataframe\">\n",
       "  <thead>\n",
       "    <tr style=\"text-align: right;\">\n",
       "      <th></th>\n",
       "      <th>path</th>\n",
       "      <th>label</th>\n",
       "    </tr>\n",
       "  </thead>\n",
       "  <tbody>\n",
       "    <tr>\n",
       "      <th>0</th>\n",
       "      <td>/kaggle/input/brain-tumor-mri-images-44c/Papil...</td>\n",
       "      <td>T2</td>\n",
       "    </tr>\n",
       "    <tr>\n",
       "      <th>1</th>\n",
       "      <td>/kaggle/input/brain-tumor-mri-images-44c/Papil...</td>\n",
       "      <td>T2</td>\n",
       "    </tr>\n",
       "    <tr>\n",
       "      <th>2</th>\n",
       "      <td>/kaggle/input/brain-tumor-mri-images-44c/Papil...</td>\n",
       "      <td>T2</td>\n",
       "    </tr>\n",
       "    <tr>\n",
       "      <th>3</th>\n",
       "      <td>/kaggle/input/brain-tumor-mri-images-44c/Papil...</td>\n",
       "      <td>T2</td>\n",
       "    </tr>\n",
       "    <tr>\n",
       "      <th>4</th>\n",
       "      <td>/kaggle/input/brain-tumor-mri-images-44c/Papil...</td>\n",
       "      <td>T2</td>\n",
       "    </tr>\n",
       "  </tbody>\n",
       "</table>\n",
       "</div>"
      ],
      "text/plain": [
       "                                                path label\n",
       "0  /kaggle/input/brain-tumor-mri-images-44c/Papil...    T2\n",
       "1  /kaggle/input/brain-tumor-mri-images-44c/Papil...    T2\n",
       "2  /kaggle/input/brain-tumor-mri-images-44c/Papil...    T2\n",
       "3  /kaggle/input/brain-tumor-mri-images-44c/Papil...    T2\n",
       "4  /kaggle/input/brain-tumor-mri-images-44c/Papil...    T2"
      ]
     },
     "execution_count": 11,
     "metadata": {},
     "output_type": "execute_result"
    }
   ],
   "source": [
    "#df = pd.read_pickle('/kaggle/working/initial_dataset.pkl')\n",
    "df.head()"
   ]
  },
  {
   "cell_type": "code",
   "execution_count": 12,
   "id": "7af635f1",
   "metadata": {
    "execution": {
     "iopub.execute_input": "2024-03-15T13:47:36.128099Z",
     "iopub.status.busy": "2024-03-15T13:47:36.127317Z",
     "iopub.status.idle": "2024-03-15T13:47:36.132674Z",
     "shell.execute_reply": "2024-03-15T13:47:36.131888Z"
    },
    "papermill": {
     "duration": 0.019842,
     "end_time": "2024-03-15T13:47:36.134572",
     "exception": false,
     "start_time": "2024-03-15T13:47:36.114730",
     "status": "completed"
    },
    "tags": []
   },
   "outputs": [
    {
     "data": {
      "text/plain": [
       "(4479, 2)"
      ]
     },
     "execution_count": 12,
     "metadata": {},
     "output_type": "execute_result"
    }
   ],
   "source": [
    "df.shape"
   ]
  },
  {
   "cell_type": "code",
   "execution_count": 13,
   "id": "5be400c1",
   "metadata": {
    "execution": {
     "iopub.execute_input": "2024-03-15T13:47:36.158989Z",
     "iopub.status.busy": "2024-03-15T13:47:36.158734Z",
     "iopub.status.idle": "2024-03-15T13:47:36.170023Z",
     "shell.execute_reply": "2024-03-15T13:47:36.169365Z"
    },
    "papermill": {
     "duration": 0.025878,
     "end_time": "2024-03-15T13:47:36.172142",
     "exception": false,
     "start_time": "2024-03-15T13:47:36.146264",
     "status": "completed"
    },
    "tags": []
   },
   "outputs": [],
   "source": [
    "label_counts = df['label'].value_counts().sort_values(ascending=False)\n",
    "sorted_label = label_counts.index"
   ]
  },
  {
   "cell_type": "code",
   "execution_count": null,
   "id": "42d3d65a",
   "metadata": {
    "papermill": {
     "duration": 0.011369,
     "end_time": "2024-03-15T13:47:36.196201",
     "exception": false,
     "start_time": "2024-03-15T13:47:36.184832",
     "status": "completed"
    },
    "tags": []
   },
   "outputs": [],
   "source": []
  },
  {
   "cell_type": "code",
   "execution_count": 14,
   "id": "fd414dc7",
   "metadata": {
    "execution": {
     "iopub.execute_input": "2024-03-15T13:47:36.220106Z",
     "iopub.status.busy": "2024-03-15T13:47:36.219819Z",
     "iopub.status.idle": "2024-03-15T13:47:36.388327Z",
     "shell.execute_reply": "2024-03-15T13:47:36.387505Z"
    },
    "papermill": {
     "duration": 0.182666,
     "end_time": "2024-03-15T13:47:36.390237",
     "exception": false,
     "start_time": "2024-03-15T13:47:36.207571",
     "status": "completed"
    },
    "tags": []
   },
   "outputs": [
    {
     "data": {
      "image/png": "[encoded data removed]",
      "text/plain": [
       "<Figure size 800x400 with 1 Axes>"
      ]
     },
     "metadata": {},
     "output_type": "display_data"
    }
   ],
   "source": [
    "plt.figure(figsize=(8,4))\n",
    "sns.barplot(x=label_counts.values, y=sorted_label)\n",
    "plt.show()"
   ]
  },
  {
   "cell_type": "code",
   "execution_count": 15,
   "id": "7a48dad2",
   "metadata": {
    "execution": {
     "iopub.execute_input": "2024-03-15T13:47:36.414799Z",
     "iopub.status.busy": "2024-03-15T13:47:36.414528Z",
     "iopub.status.idle": "2024-03-15T13:47:36.419056Z",
     "shell.execute_reply": "2024-03-15T13:47:36.418334Z"
    },
    "papermill": {
     "duration": 0.018924,
     "end_time": "2024-03-15T13:47:36.420931",
     "exception": false,
     "start_time": "2024-03-15T13:47:36.402007",
     "status": "completed"
    },
    "tags": []
   },
   "outputs": [],
   "source": [
    "datagen = ImageDataGenerator(\n",
    "    rescale=1./255,\n",
    "    rotation_range=40,\n",
    "    width_shift_range=0.1,\n",
    "    height_shift_range=0.1,\n",
    "    shear_range=0.1,\n",
    "    zoom_range=0.1,\n",
    "    horizontal_flip=True,\n",
    "    vertical_flip=True,\n",
    "    fill_mode='nearest',\n",
    ")"
   ]
  },
  {
   "cell_type": "code",
   "execution_count": 16,
   "id": "db2459bd",
   "metadata": {
    "execution": {
     "iopub.execute_input": "2024-03-15T13:47:36.445482Z",
     "iopub.status.busy": "2024-03-15T13:47:36.445225Z",
     "iopub.status.idle": "2024-03-15T13:47:36.455854Z",
     "shell.execute_reply": "2024-03-15T13:47:36.455030Z"
    },
    "papermill": {
     "duration": 0.025212,
     "end_time": "2024-03-15T13:47:36.457828",
     "exception": false,
     "start_time": "2024-03-15T13:47:36.432616",
     "status": "completed"
    },
    "tags": []
   },
   "outputs": [
    {
     "data": {
      "text/html": [
       "<div>\n",
       "<style scoped>\n",
       "    .dataframe tbody tr th:only-of-type {\n",
       "        vertical-align: middle;\n",
       "    }\n",
       "\n",
       "    .dataframe tbody tr th {\n",
       "        vertical-align: top;\n",
       "    }\n",
       "\n",
       "    .dataframe thead th {\n",
       "        text-align: right;\n",
       "    }\n",
       "</style>\n",
       "<table border=\"1\" class=\"dataframe\">\n",
       "  <thead>\n",
       "    <tr style=\"text-align: right;\">\n",
       "      <th></th>\n",
       "      <th>path</th>\n",
       "      <th>label</th>\n",
       "    </tr>\n",
       "  </thead>\n",
       "  <tbody>\n",
       "    <tr>\n",
       "      <th>0</th>\n",
       "      <td>/kaggle/input/brain-tumor-mri-images-44c/Menin...</td>\n",
       "      <td>T2</td>\n",
       "    </tr>\n",
       "    <tr>\n",
       "      <th>1</th>\n",
       "      <td>/kaggle/input/brain-tumor-mri-images-44c/Germi...</td>\n",
       "      <td>T1</td>\n",
       "    </tr>\n",
       "    <tr>\n",
       "      <th>2</th>\n",
       "      <td>/kaggle/input/brain-tumor-mri-images-44c/Menin...</td>\n",
       "      <td>T1</td>\n",
       "    </tr>\n",
       "    <tr>\n",
       "      <th>3</th>\n",
       "      <td>/kaggle/input/brain-tumor-mri-images-44c/Schwa...</td>\n",
       "      <td>T1C+</td>\n",
       "    </tr>\n",
       "    <tr>\n",
       "      <th>4</th>\n",
       "      <td>/kaggle/input/brain-tumor-mri-images-44c/Oligo...</td>\n",
       "      <td>T1C+</td>\n",
       "    </tr>\n",
       "  </tbody>\n",
       "</table>\n",
       "</div>"
      ],
      "text/plain": [
       "                                                path label\n",
       "0  /kaggle/input/brain-tumor-mri-images-44c/Menin...    T2\n",
       "1  /kaggle/input/brain-tumor-mri-images-44c/Germi...    T1\n",
       "2  /kaggle/input/brain-tumor-mri-images-44c/Menin...    T1\n",
       "3  /kaggle/input/brain-tumor-mri-images-44c/Schwa...  T1C+\n",
       "4  /kaggle/input/brain-tumor-mri-images-44c/Oligo...  T1C+"
      ]
     },
     "execution_count": 16,
     "metadata": {},
     "output_type": "execute_result"
    }
   ],
   "source": [
    "df_shuffle = df.sample(frac=1).reset_index(drop=True)\n",
    "df_shuffle.head()"
   ]
  },
  {
   "cell_type": "code",
   "execution_count": 17,
   "id": "566d55ad",
   "metadata": {
    "execution": {
     "iopub.execute_input": "2024-03-15T13:47:36.482738Z",
     "iopub.status.busy": "2024-03-15T13:47:36.482476Z",
     "iopub.status.idle": "2024-03-15T13:47:36.498463Z",
     "shell.execute_reply": "2024-03-15T13:47:36.497638Z"
    },
    "papermill": {
     "duration": 0.030303,
     "end_time": "2024-03-15T13:47:36.500265",
     "exception": false,
     "start_time": "2024-03-15T13:47:36.469962",
     "status": "completed"
    },
    "tags": []
   },
   "outputs": [],
   "source": [
    "train_df, tv_df = train_test_split(df,test_size= 0.2,shuffle=True,random_state=42,stratify= df['label'])\n",
    "test_df, valid_df = train_test_split(tv_df,test_size= 0.5,shuffle=True,random_state=42,\n",
    "                                          stratify= tv_df['label'])"
   ]
  },
  {
   "cell_type": "code",
   "execution_count": 18,
   "id": "ce3ab751",
   "metadata": {
    "execution": {
     "iopub.execute_input": "2024-03-15T13:47:36.525042Z",
     "iopub.status.busy": "2024-03-15T13:47:36.524763Z",
     "iopub.status.idle": "2024-03-15T13:47:36.533948Z",
     "shell.execute_reply": "2024-03-15T13:47:36.533094Z"
    },
    "papermill": {
     "duration": 0.024042,
     "end_time": "2024-03-15T13:47:36.536234",
     "exception": false,
     "start_time": "2024-03-15T13:47:36.512192",
     "status": "completed"
    },
    "tags": []
   },
   "outputs": [
    {
     "data": {
      "text/html": [
       "<div>\n",
       "<style scoped>\n",
       "    .dataframe tbody tr th:only-of-type {\n",
       "        vertical-align: middle;\n",
       "    }\n",
       "\n",
       "    .dataframe tbody tr th {\n",
       "        vertical-align: top;\n",
       "    }\n",
       "\n",
       "    .dataframe thead th {\n",
       "        text-align: right;\n",
       "    }\n",
       "</style>\n",
       "<table border=\"1\" class=\"dataframe\">\n",
       "  <thead>\n",
       "    <tr style=\"text-align: right;\">\n",
       "      <th></th>\n",
       "      <th>path</th>\n",
       "      <th>label</th>\n",
       "    </tr>\n",
       "  </thead>\n",
       "  <tbody>\n",
       "    <tr>\n",
       "      <th>4082</th>\n",
       "      <td>/kaggle/input/brain-tumor-mri-images-44c/Schwa...</td>\n",
       "      <td>T1</td>\n",
       "    </tr>\n",
       "    <tr>\n",
       "      <th>1166</th>\n",
       "      <td>/kaggle/input/brain-tumor-mri-images-44c/Menin...</td>\n",
       "      <td>T2</td>\n",
       "    </tr>\n",
       "    <tr>\n",
       "      <th>1566</th>\n",
       "      <td>/kaggle/input/brain-tumor-mri-images-44c/Oligo...</td>\n",
       "      <td>T1C+</td>\n",
       "    </tr>\n",
       "    <tr>\n",
       "      <th>1309</th>\n",
       "      <td>/kaggle/input/brain-tumor-mri-images-44c/Neuro...</td>\n",
       "      <td>T2</td>\n",
       "    </tr>\n",
       "    <tr>\n",
       "      <th>2061</th>\n",
       "      <td>/kaggle/input/brain-tumor-mri-images-44c/Neuro...</td>\n",
       "      <td>T1C+</td>\n",
       "    </tr>\n",
       "    <tr>\n",
       "      <th>...</th>\n",
       "      <td>...</td>\n",
       "      <td>...</td>\n",
       "    </tr>\n",
       "    <tr>\n",
       "      <th>3419</th>\n",
       "      <td>/kaggle/input/brain-tumor-mri-images-44c/Astro...</td>\n",
       "      <td>T1C+</td>\n",
       "    </tr>\n",
       "    <tr>\n",
       "      <th>3196</th>\n",
       "      <td>/kaggle/input/brain-tumor-mri-images-44c/Astro...</td>\n",
       "      <td>T1</td>\n",
       "    </tr>\n",
       "    <tr>\n",
       "      <th>918</th>\n",
       "      <td>/kaggle/input/brain-tumor-mri-images-44c/Germi...</td>\n",
       "      <td>T1C+</td>\n",
       "    </tr>\n",
       "    <tr>\n",
       "      <th>3962</th>\n",
       "      <td>/kaggle/input/brain-tumor-mri-images-44c/Papil...</td>\n",
       "      <td>T1</td>\n",
       "    </tr>\n",
       "    <tr>\n",
       "      <th>2868</th>\n",
       "      <td>/kaggle/input/brain-tumor-mri-images-44c/Menin...</td>\n",
       "      <td>T1C+</td>\n",
       "    </tr>\n",
       "  </tbody>\n",
       "</table>\n",
       "<p>3583 rows × 2 columns</p>\n",
       "</div>"
      ],
      "text/plain": [
       "                                                   path label\n",
       "4082  /kaggle/input/brain-tumor-mri-images-44c/Schwa...    T1\n",
       "1166  /kaggle/input/brain-tumor-mri-images-44c/Menin...    T2\n",
       "1566  /kaggle/input/brain-tumor-mri-images-44c/Oligo...  T1C+\n",
       "1309  /kaggle/input/brain-tumor-mri-images-44c/Neuro...    T2\n",
       "2061  /kaggle/input/brain-tumor-mri-images-44c/Neuro...  T1C+\n",
       "...                                                 ...   ...\n",
       "3419  /kaggle/input/brain-tumor-mri-images-44c/Astro...  T1C+\n",
       "3196  /kaggle/input/brain-tumor-mri-images-44c/Astro...    T1\n",
       "918   /kaggle/input/brain-tumor-mri-images-44c/Germi...  T1C+\n",
       "3962  /kaggle/input/brain-tumor-mri-images-44c/Papil...    T1\n",
       "2868  /kaggle/input/brain-tumor-mri-images-44c/Menin...  T1C+\n",
       "\n",
       "[3583 rows x 2 columns]"
      ]
     },
     "execution_count": 18,
     "metadata": {},
     "output_type": "execute_result"
    }
   ],
   "source": [
    "train_df"
   ]
  },
  {
   "cell_type": "code",
   "execution_count": 19,
   "id": "28be1dca",
   "metadata": {
    "execution": {
     "iopub.execute_input": "2024-03-15T13:47:36.562940Z",
     "iopub.status.busy": "2024-03-15T13:47:36.562702Z",
     "iopub.status.idle": "2024-03-15T13:47:36.572070Z",
     "shell.execute_reply": "2024-03-15T13:47:36.571259Z"
    },
    "papermill": {
     "duration": 0.024241,
     "end_time": "2024-03-15T13:47:36.574012",
     "exception": false,
     "start_time": "2024-03-15T13:47:36.549771",
     "status": "completed"
    },
    "tags": []
   },
   "outputs": [
    {
     "data": {
      "text/html": [
       "<div>\n",
       "<style scoped>\n",
       "    .dataframe tbody tr th:only-of-type {\n",
       "        vertical-align: middle;\n",
       "    }\n",
       "\n",
       "    .dataframe tbody tr th {\n",
       "        vertical-align: top;\n",
       "    }\n",
       "\n",
       "    .dataframe thead th {\n",
       "        text-align: right;\n",
       "    }\n",
       "</style>\n",
       "<table border=\"1\" class=\"dataframe\">\n",
       "  <thead>\n",
       "    <tr style=\"text-align: right;\">\n",
       "      <th></th>\n",
       "      <th>path</th>\n",
       "      <th>label</th>\n",
       "    </tr>\n",
       "  </thead>\n",
       "  <tbody>\n",
       "    <tr>\n",
       "      <th>1942</th>\n",
       "      <td>/kaggle/input/brain-tumor-mri-images-44c/Gliob...</td>\n",
       "      <td>T1C+</td>\n",
       "    </tr>\n",
       "    <tr>\n",
       "      <th>1215</th>\n",
       "      <td>/kaggle/input/brain-tumor-mri-images-44c/Menin...</td>\n",
       "      <td>T2</td>\n",
       "    </tr>\n",
       "    <tr>\n",
       "      <th>3363</th>\n",
       "      <td>/kaggle/input/brain-tumor-mri-images-44c/Astro...</td>\n",
       "      <td>T1C+</td>\n",
       "    </tr>\n",
       "    <tr>\n",
       "      <th>3302</th>\n",
       "      <td>/kaggle/input/brain-tumor-mri-images-44c/Astro...</td>\n",
       "      <td>T1C+</td>\n",
       "    </tr>\n",
       "    <tr>\n",
       "      <th>3797</th>\n",
       "      <td>/kaggle/input/brain-tumor-mri-images-44c/Schwa...</td>\n",
       "      <td>T2</td>\n",
       "    </tr>\n",
       "    <tr>\n",
       "      <th>...</th>\n",
       "      <td>...</td>\n",
       "      <td>...</td>\n",
       "    </tr>\n",
       "    <tr>\n",
       "      <th>1570</th>\n",
       "      <td>/kaggle/input/brain-tumor-mri-images-44c/Oligo...</td>\n",
       "      <td>T1C+</td>\n",
       "    </tr>\n",
       "    <tr>\n",
       "      <th>1201</th>\n",
       "      <td>/kaggle/input/brain-tumor-mri-images-44c/Menin...</td>\n",
       "      <td>T2</td>\n",
       "    </tr>\n",
       "    <tr>\n",
       "      <th>2871</th>\n",
       "      <td>/kaggle/input/brain-tumor-mri-images-44c/Menin...</td>\n",
       "      <td>T1C+</td>\n",
       "    </tr>\n",
       "    <tr>\n",
       "      <th>1547</th>\n",
       "      <td>/kaggle/input/brain-tumor-mri-images-44c/Oligo...</td>\n",
       "      <td>T1C+</td>\n",
       "    </tr>\n",
       "    <tr>\n",
       "      <th>2384</th>\n",
       "      <td>/kaggle/input/brain-tumor-mri-images-44c/Menin...</td>\n",
       "      <td>T1</td>\n",
       "    </tr>\n",
       "  </tbody>\n",
       "</table>\n",
       "<p>448 rows × 2 columns</p>\n",
       "</div>"
      ],
      "text/plain": [
       "                                                   path label\n",
       "1942  /kaggle/input/brain-tumor-mri-images-44c/Gliob...  T1C+\n",
       "1215  /kaggle/input/brain-tumor-mri-images-44c/Menin...    T2\n",
       "3363  /kaggle/input/brain-tumor-mri-images-44c/Astro...  T1C+\n",
       "3302  /kaggle/input/brain-tumor-mri-images-44c/Astro...  T1C+\n",
       "3797  /kaggle/input/brain-tumor-mri-images-44c/Schwa...    T2\n",
       "...                                                 ...   ...\n",
       "1570  /kaggle/input/brain-tumor-mri-images-44c/Oligo...  T1C+\n",
       "1201  /kaggle/input/brain-tumor-mri-images-44c/Menin...    T2\n",
       "2871  /kaggle/input/brain-tumor-mri-images-44c/Menin...  T1C+\n",
       "1547  /kaggle/input/brain-tumor-mri-images-44c/Oligo...  T1C+\n",
       "2384  /kaggle/input/brain-tumor-mri-images-44c/Menin...    T1\n",
       "\n",
       "[448 rows x 2 columns]"
      ]
     },
     "execution_count": 19,
     "metadata": {},
     "output_type": "execute_result"
    }
   ],
   "source": [
    "test_df\n"
   ]
  },
  {
   "cell_type": "code",
   "execution_count": 20,
   "id": "631ed45e",
   "metadata": {
    "execution": {
     "iopub.execute_input": "2024-03-15T13:47:36.599895Z",
     "iopub.status.busy": "2024-03-15T13:47:36.599647Z",
     "iopub.status.idle": "2024-03-15T13:47:36.608962Z",
     "shell.execute_reply": "2024-03-15T13:47:36.608124Z"
    },
    "papermill": {
     "duration": 0.024588,
     "end_time": "2024-03-15T13:47:36.611022",
     "exception": false,
     "start_time": "2024-03-15T13:47:36.586434",
     "status": "completed"
    },
    "tags": []
   },
   "outputs": [
    {
     "data": {
      "text/html": [
       "<div>\n",
       "<style scoped>\n",
       "    .dataframe tbody tr th:only-of-type {\n",
       "        vertical-align: middle;\n",
       "    }\n",
       "\n",
       "    .dataframe tbody tr th {\n",
       "        vertical-align: top;\n",
       "    }\n",
       "\n",
       "    .dataframe thead th {\n",
       "        text-align: right;\n",
       "    }\n",
       "</style>\n",
       "<table border=\"1\" class=\"dataframe\">\n",
       "  <thead>\n",
       "    <tr style=\"text-align: right;\">\n",
       "      <th></th>\n",
       "      <th>path</th>\n",
       "      <th>label</th>\n",
       "    </tr>\n",
       "  </thead>\n",
       "  <tbody>\n",
       "    <tr>\n",
       "      <th>3535</th>\n",
       "      <td>/kaggle/input/brain-tumor-mri-images-44c/Papil...</td>\n",
       "      <td>T1C+</td>\n",
       "    </tr>\n",
       "    <tr>\n",
       "      <th>4335</th>\n",
       "      <td>/kaggle/input/brain-tumor-mri-images-44c/Germi...</td>\n",
       "      <td>T2</td>\n",
       "    </tr>\n",
       "    <tr>\n",
       "      <th>2756</th>\n",
       "      <td>/kaggle/input/brain-tumor-mri-images-44c/Menin...</td>\n",
       "      <td>T1C+</td>\n",
       "    </tr>\n",
       "    <tr>\n",
       "      <th>141</th>\n",
       "      <td>/kaggle/input/brain-tumor-mri-images-44c/Tuber...</td>\n",
       "      <td>T1C+</td>\n",
       "    </tr>\n",
       "    <tr>\n",
       "      <th>3556</th>\n",
       "      <td>/kaggle/input/brain-tumor-mri-images-44c/Papil...</td>\n",
       "      <td>T1C+</td>\n",
       "    </tr>\n",
       "    <tr>\n",
       "      <th>...</th>\n",
       "      <td>...</td>\n",
       "      <td>...</td>\n",
       "    </tr>\n",
       "    <tr>\n",
       "      <th>2988</th>\n",
       "      <td>/kaggle/input/brain-tumor-mri-images-44c/Menin...</td>\n",
       "      <td>T1C+</td>\n",
       "    </tr>\n",
       "    <tr>\n",
       "      <th>811</th>\n",
       "      <td>/kaggle/input/brain-tumor-mri-images-44c/Schwa...</td>\n",
       "      <td>T1C+</td>\n",
       "    </tr>\n",
       "    <tr>\n",
       "      <th>3626</th>\n",
       "      <td>/kaggle/input/brain-tumor-mri-images-44c/Papil...</td>\n",
       "      <td>T1C+</td>\n",
       "    </tr>\n",
       "    <tr>\n",
       "      <th>100</th>\n",
       "      <td>/kaggle/input/brain-tumor-mri-images-44c/Tuber...</td>\n",
       "      <td>T1C+</td>\n",
       "    </tr>\n",
       "    <tr>\n",
       "      <th>906</th>\n",
       "      <td>/kaggle/input/brain-tumor-mri-images-44c/Carci...</td>\n",
       "      <td>T1</td>\n",
       "    </tr>\n",
       "  </tbody>\n",
       "</table>\n",
       "<p>448 rows × 2 columns</p>\n",
       "</div>"
      ],
      "text/plain": [
       "                                                   path label\n",
       "3535  /kaggle/input/brain-tumor-mri-images-44c/Papil...  T1C+\n",
       "4335  /kaggle/input/brain-tumor-mri-images-44c/Germi...    T2\n",
       "2756  /kaggle/input/brain-tumor-mri-images-44c/Menin...  T1C+\n",
       "141   /kaggle/input/brain-tumor-mri-images-44c/Tuber...  T1C+\n",
       "3556  /kaggle/input/brain-tumor-mri-images-44c/Papil...  T1C+\n",
       "...                                                 ...   ...\n",
       "2988  /kaggle/input/brain-tumor-mri-images-44c/Menin...  T1C+\n",
       "811   /kaggle/input/brain-tumor-mri-images-44c/Schwa...  T1C+\n",
       "3626  /kaggle/input/brain-tumor-mri-images-44c/Papil...  T1C+\n",
       "100   /kaggle/input/brain-tumor-mri-images-44c/Tuber...  T1C+\n",
       "906   /kaggle/input/brain-tumor-mri-images-44c/Carci...    T1\n",
       "\n",
       "[448 rows x 2 columns]"
      ]
     },
     "execution_count": 20,
     "metadata": {},
     "output_type": "execute_result"
    }
   ],
   "source": [
    "valid_df"
   ]
  },
  {
   "cell_type": "code",
   "execution_count": 21,
   "id": "06f8cba4",
   "metadata": {
    "execution": {
     "iopub.execute_input": "2024-03-15T13:47:36.639334Z",
     "iopub.status.busy": "2024-03-15T13:47:36.639040Z",
     "iopub.status.idle": "2024-03-15T13:47:37.721004Z",
     "shell.execute_reply": "2024-03-15T13:47:37.720058Z"
    },
    "papermill": {
     "duration": 1.098296,
     "end_time": "2024-03-15T13:47:37.723539",
     "exception": false,
     "start_time": "2024-03-15T13:47:36.625243",
     "status": "completed"
    },
    "tags": []
   },
   "outputs": [
    {
     "name": "stdout",
     "output_type": "stream",
     "text": [
      "Found 3582 validated image filenames belonging to 3 classes.\n"
     ]
    }
   ],
   "source": [
    "train_generator = datagen.flow_from_dataframe(\n",
    "    dataframe=train_df,\n",
    "    x_col='path',\n",
    "    y_col='label',\n",
    "    target_size=img_size,  # Resize images to 150x150\n",
    "    color_mode='rgb',\n",
    "    class_mode=\"categorical\",  # \"raw\" for regression tasks, \"binary\" for binary classification\n",
    "    batch_size=BATCH,\n",
    "    shuffle=True\n",
    ")"
   ]
  },
  {
   "cell_type": "code",
   "execution_count": 22,
   "id": "48b31f54",
   "metadata": {
    "execution": {
     "iopub.execute_input": "2024-03-15T13:47:37.755477Z",
     "iopub.status.busy": "2024-03-15T13:47:37.755143Z",
     "iopub.status.idle": "2024-03-15T13:47:37.906983Z",
     "shell.execute_reply": "2024-03-15T13:47:37.905915Z"
    },
    "papermill": {
     "duration": 0.170195,
     "end_time": "2024-03-15T13:47:37.909133",
     "exception": false,
     "start_time": "2024-03-15T13:47:37.738938",
     "status": "completed"
    },
    "tags": []
   },
   "outputs": [
    {
     "name": "stdout",
     "output_type": "stream",
     "text": [
      "Found 448 validated image filenames belonging to 3 classes.\n"
     ]
    }
   ],
   "source": [
    "valid_generator = datagen.flow_from_dataframe(\n",
    "    dataframe=valid_df,\n",
    "    x_col='path',\n",
    "    y_col='label',\n",
    "    target_size=img_size,  # Resize images to 150x150\n",
    "    color_mode='rgb',\n",
    "    class_mode=\"categorical\",  # \"raw\" for regression tasks, \"binary\" for binary classification\n",
    "    batch_size=BATCH,\n",
    "    shuffle=True\n",
    ")"
   ]
  },
  {
   "cell_type": "code",
   "execution_count": 23,
   "id": "60551561",
   "metadata": {
    "execution": {
     "iopub.execute_input": "2024-03-15T13:47:37.936956Z",
     "iopub.status.busy": "2024-03-15T13:47:37.936647Z",
     "iopub.status.idle": "2024-03-15T13:47:38.097404Z",
     "shell.execute_reply": "2024-03-15T13:47:38.096326Z"
    },
    "papermill": {
     "duration": 0.177094,
     "end_time": "2024-03-15T13:47:38.099877",
     "exception": false,
     "start_time": "2024-03-15T13:47:37.922783",
     "status": "completed"
    },
    "tags": []
   },
   "outputs": [
    {
     "name": "stdout",
     "output_type": "stream",
     "text": [
      "Found 448 validated image filenames belonging to 3 classes.\n"
     ]
    }
   ],
   "source": [
    "test_generator = datagen.flow_from_dataframe(\n",
    "    dataframe=test_df,\n",
    "    x_col='path',\n",
    "    y_col='label',\n",
    "    target_size=img_size,  # Resize images to 150x150\n",
    "    color_mode='rgb',\n",
    "    class_mode=\"categorical\",  # \"raw\" for regression tasks, \"binary\" for binary classification\n",
    "    batch_size=BATCH,\n",
    "    shuffle=True\n",
    ")"
   ]
  },
  {
   "cell_type": "code",
   "execution_count": null,
   "id": "97dac9ed",
   "metadata": {
    "papermill": {
     "duration": 0.057156,
     "end_time": "2024-03-15T13:47:38.174373",
     "exception": false,
     "start_time": "2024-03-15T13:47:38.117217",
     "status": "completed"
    },
    "tags": []
   },
   "outputs": [],
   "source": []
  },
  {
   "cell_type": "code",
   "execution_count": null,
   "id": "2f4dc26c",
   "metadata": {
    "papermill": {
     "duration": 0.015034,
     "end_time": "2024-03-15T13:47:38.204773",
     "exception": false,
     "start_time": "2024-03-15T13:47:38.189739",
     "status": "completed"
    },
    "tags": []
   },
   "outputs": [],
   "source": []
  },
  {
   "cell_type": "code",
   "execution_count": null,
   "id": "ecf62961",
   "metadata": {
    "execution": {
     "iopub.execute_input": "2024-03-04T13:48:34.879159Z",
     "iopub.status.busy": "2024-03-04T13:48:34.878753Z",
     "iopub.status.idle": "2024-03-04T13:48:34.884759Z",
     "shell.execute_reply": "2024-03-04T13:48:34.883774Z",
     "shell.execute_reply.started": "2024-03-04T13:48:34.879129Z"
    },
    "papermill": {
     "duration": 0.013173,
     "end_time": "2024-03-15T13:47:38.233095",
     "exception": false,
     "start_time": "2024-03-15T13:47:38.219922",
     "status": "completed"
    },
    "tags": []
   },
   "outputs": [],
   "source": []
  },
  {
   "cell_type": "code",
   "execution_count": null,
   "id": "171c121b",
   "metadata": {
    "papermill": {
     "duration": 0.012855,
     "end_time": "2024-03-15T13:47:38.258965",
     "exception": false,
     "start_time": "2024-03-15T13:47:38.246110",
     "status": "completed"
    },
    "tags": []
   },
   "outputs": [],
   "source": []
  },
  {
   "cell_type": "code",
   "execution_count": null,
   "id": "5079e4fd",
   "metadata": {
    "papermill": {
     "duration": 0.013133,
     "end_time": "2024-03-15T13:47:38.285568",
     "exception": false,
     "start_time": "2024-03-15T13:47:38.272435",
     "status": "completed"
    },
    "tags": []
   },
   "outputs": [],
   "source": []
  },
  {
   "cell_type": "code",
   "execution_count": null,
   "id": "3389fa81",
   "metadata": {
    "papermill": {
     "duration": 0.012968,
     "end_time": "2024-03-15T13:47:38.311563",
     "exception": false,
     "start_time": "2024-03-15T13:47:38.298595",
     "status": "completed"
    },
    "tags": []
   },
   "outputs": [],
   "source": []
  },
  {
   "cell_type": "code",
   "execution_count": null,
   "id": "ae9f2ace",
   "metadata": {
    "papermill": {
     "duration": 0.013044,
     "end_time": "2024-03-15T13:47:38.338588",
     "exception": false,
     "start_time": "2024-03-15T13:47:38.325544",
     "status": "completed"
    },
    "tags": []
   },
   "outputs": [],
   "source": []
  },
  {
   "cell_type": "code",
   "execution_count": null,
   "id": "d088bc68",
   "metadata": {
    "papermill": {
     "duration": 0.014977,
     "end_time": "2024-03-15T13:47:38.368368",
     "exception": false,
     "start_time": "2024-03-15T13:47:38.353391",
     "status": "completed"
    },
    "tags": []
   },
   "outputs": [],
   "source": [
    " "
   ]
  },
  {
   "cell_type": "code",
   "execution_count": null,
   "id": "917a6fdb",
   "metadata": {
    "execution": {
     "iopub.execute_input": "2024-03-04T14:08:05.809580Z",
     "iopub.status.busy": "2024-03-04T14:08:05.808859Z",
     "iopub.status.idle": "2024-03-04T14:08:05.815537Z",
     "shell.execute_reply": "2024-03-04T14:08:05.814525Z",
     "shell.execute_reply.started": "2024-03-04T14:08:05.809545Z"
    },
    "papermill": {
     "duration": 0.013209,
     "end_time": "2024-03-15T13:47:38.396679",
     "exception": false,
     "start_time": "2024-03-15T13:47:38.383470",
     "status": "completed"
    },
    "tags": []
   },
   "outputs": [],
   "source": []
  },
  {
   "cell_type": "code",
   "execution_count": null,
   "id": "b4003e27",
   "metadata": {
    "execution": {
     "iopub.execute_input": "2024-03-04T14:14:44.856182Z",
     "iopub.status.busy": "2024-03-04T14:14:44.855290Z",
     "iopub.status.idle": "2024-03-04T14:14:44.860536Z",
     "shell.execute_reply": "2024-03-04T14:14:44.859634Z",
     "shell.execute_reply.started": "2024-03-04T14:14:44.856149Z"
    },
    "papermill": {
     "duration": 0.013345,
     "end_time": "2024-03-15T13:47:38.423345",
     "exception": false,
     "start_time": "2024-03-15T13:47:38.410000",
     "status": "completed"
    },
    "tags": []
   },
   "outputs": [],
   "source": []
  },
  {
   "cell_type": "code",
   "execution_count": null,
   "id": "e5622320",
   "metadata": {
    "execution": {
     "iopub.execute_input": "2024-03-04T14:34:11.586930Z",
     "iopub.status.busy": "2024-03-04T14:34:11.586580Z",
     "iopub.status.idle": "2024-03-04T14:34:11.593452Z",
     "shell.execute_reply": "2024-03-04T14:34:11.592356Z",
     "shell.execute_reply.started": "2024-03-04T14:34:11.586904Z"
    },
    "papermill": {
     "duration": 0.013372,
     "end_time": "2024-03-15T13:47:38.450008",
     "exception": false,
     "start_time": "2024-03-15T13:47:38.436636",
     "status": "completed"
    },
    "tags": []
   },
   "outputs": [],
   "source": []
  },
  {
   "cell_type": "code",
   "execution_count": null,
   "id": "787ff608",
   "metadata": {
    "execution": {
     "iopub.execute_input": "2024-03-04T14:34:05.083341Z",
     "iopub.status.busy": "2024-03-04T14:34:05.082994Z",
     "iopub.status.idle": "2024-03-04T14:34:05.090237Z",
     "shell.execute_reply": "2024-03-04T14:34:05.089169Z",
     "shell.execute_reply.started": "2024-03-04T14:34:05.083317Z"
    },
    "papermill": {
     "duration": 0.014019,
     "end_time": "2024-03-15T13:47:38.477440",
     "exception": false,
     "start_time": "2024-03-15T13:47:38.463421",
     "status": "completed"
    },
    "tags": []
   },
   "outputs": [],
   "source": [
    "\n",
    "                    "
   ]
  },
  {
   "cell_type": "code",
   "execution_count": 24,
   "id": "d36ccc0a",
   "metadata": {
    "execution": {
     "iopub.execute_input": "2024-03-15T13:47:38.505544Z",
     "iopub.status.busy": "2024-03-15T13:47:38.505203Z",
     "iopub.status.idle": "2024-03-15T13:47:38.511852Z",
     "shell.execute_reply": "2024-03-15T13:47:38.510910Z"
    },
    "papermill": {
     "duration": 0.022629,
     "end_time": "2024-03-15T13:47:38.513743",
     "exception": false,
     "start_time": "2024-03-15T13:47:38.491114",
     "status": "completed"
    },
    "tags": []
   },
   "outputs": [
    {
     "data": {
      "text/plain": [
       "'\\nimport zipfile\\n\\nbase_dir = \\'/kaggle/working\\'\\n\\ndef zipdir(path, ziph):\\n    for root, dirs, files in os.walk(path):\\n        for file in files:\\n            ziph.write(os.path.join(root, file), os.path.relpath(os.path.join(root, file), os.path.join(path, \\'..\\')))\\n\\nwith zipfile.ZipFile(os.path.join(base_dir, \\'augmented_images.zip\\'), \\'w\\', zipfile.ZIP_DEFLATED) as zipf:\\n    zipdir(\\'augmented_images/\\', zipf)\\n\\nfor pkl_file in [\\'augmented_balanced_dataset.pkl\\', \\'initial_dataset.pkl\\']:\\n    with zipfile.ZipFile(os.path.join(base_dir, f\"{pkl_file}.zip\"), \\'w\\', zipfile.ZIP_DEFLATED) as zipf:\\n        zipf.write(os.path.join(base_dir, pkl_file), pkl_file)\\n\\nprint(\\'Created separate ZIP files for each item.\\')\\n'"
      ]
     },
     "execution_count": 24,
     "metadata": {},
     "output_type": "execute_result"
    }
   ],
   "source": [
    "'''\n",
    "import zipfile\n",
    "\n",
    "base_dir = '/kaggle/working'\n",
    "\n",
    "def zipdir(path, ziph):\n",
    "    for root, dirs, files in os.walk(path):\n",
    "        for file in files:\n",
    "            ziph.write(os.path.join(root, file), os.path.relpath(os.path.join(root, file), os.path.join(path, '..')))\n",
    "\n",
    "with zipfile.ZipFile(os.path.join(base_dir, 'augmented_images.zip'), 'w', zipfile.ZIP_DEFLATED) as zipf:\n",
    "    zipdir('augmented_images/', zipf)\n",
    "\n",
    "for pkl_file in ['augmented_balanced_dataset.pkl', 'initial_dataset.pkl']:\n",
    "    with zipfile.ZipFile(os.path.join(base_dir, f\"{pkl_file}.zip\"), 'w', zipfile.ZIP_DEFLATED) as zipf:\n",
    "        zipf.write(os.path.join(base_dir, pkl_file), pkl_file)\n",
    "\n",
    "print('Created separate ZIP files for each item.')\n",
    "'''\n"
   ]
  },
  {
   "cell_type": "code",
   "execution_count": null,
   "id": "37535e14",
   "metadata": {
    "execution": {
     "iopub.execute_input": "2024-02-25T12:09:12.113625Z",
     "iopub.status.busy": "2024-02-25T12:09:12.113276Z",
     "iopub.status.idle": "2024-02-25T12:09:12.123883Z",
     "shell.execute_reply": "2024-02-25T12:09:12.122997Z",
     "shell.execute_reply.started": "2024-02-25T12:09:12.113598Z"
    },
    "papermill": {
     "duration": 0.013267,
     "end_time": "2024-03-15T13:47:38.540123",
     "exception": false,
     "start_time": "2024-03-15T13:47:38.526856",
     "status": "completed"
    },
    "tags": []
   },
   "outputs": [],
   "source": []
  },
  {
   "cell_type": "code",
   "execution_count": null,
   "id": "621d7140",
   "metadata": {
    "execution": {
     "iopub.execute_input": "2024-02-25T12:09:17.797084Z",
     "iopub.status.busy": "2024-02-25T12:09:17.795983Z",
     "iopub.status.idle": "2024-02-25T12:09:17.807705Z",
     "shell.execute_reply": "2024-02-25T12:09:17.806843Z",
     "shell.execute_reply.started": "2024-02-25T12:09:17.797043Z"
    },
    "papermill": {
     "duration": 0.01304,
     "end_time": "2024-03-15T13:47:38.566344",
     "exception": false,
     "start_time": "2024-03-15T13:47:38.553304",
     "status": "completed"
    },
    "tags": []
   },
   "outputs": [],
   "source": []
  },
  {
   "cell_type": "code",
   "execution_count": null,
   "id": "c9194730",
   "metadata": {
    "execution": {
     "iopub.execute_input": "2024-02-25T12:10:03.433058Z",
     "iopub.status.busy": "2024-02-25T12:10:03.432660Z",
     "iopub.status.idle": "2024-02-25T12:10:03.438195Z",
     "shell.execute_reply": "2024-02-25T12:10:03.437145Z",
     "shell.execute_reply.started": "2024-02-25T12:10:03.433029Z"
    },
    "papermill": {
     "duration": 0.013008,
     "end_time": "2024-03-15T13:47:38.592584",
     "exception": false,
     "start_time": "2024-03-15T13:47:38.579576",
     "status": "completed"
    },
    "tags": []
   },
   "outputs": [],
   "source": []
  },
  {
   "cell_type": "code",
   "execution_count": null,
   "id": "878e3533",
   "metadata": {
    "papermill": {
     "duration": 0.013195,
     "end_time": "2024-03-15T13:47:38.619475",
     "exception": false,
     "start_time": "2024-03-15T13:47:38.606280",
     "status": "completed"
    },
    "tags": []
   },
   "outputs": [],
   "source": []
  },
  {
   "cell_type": "code",
   "execution_count": null,
   "id": "764f4bdf",
   "metadata": {
    "papermill": {
     "duration": 0.013785,
     "end_time": "2024-03-15T13:47:38.646451",
     "exception": false,
     "start_time": "2024-03-15T13:47:38.632666",
     "status": "completed"
    },
    "tags": []
   },
   "outputs": [],
   "source": []
  },
  {
   "cell_type": "code",
   "execution_count": null,
   "id": "3ac877de",
   "metadata": {
    "papermill": {
     "duration": 0.013143,
     "end_time": "2024-03-15T13:47:38.672813",
     "exception": false,
     "start_time": "2024-03-15T13:47:38.659670",
     "status": "completed"
    },
    "tags": []
   },
   "outputs": [],
   "source": []
  },
  {
   "cell_type": "code",
   "execution_count": null,
   "id": "126483d9",
   "metadata": {
    "papermill": {
     "duration": 0.013116,
     "end_time": "2024-03-15T13:47:38.699527",
     "exception": false,
     "start_time": "2024-03-15T13:47:38.686411",
     "status": "completed"
    },
    "tags": []
   },
   "outputs": [],
   "source": []
  },
  {
   "cell_type": "code",
   "execution_count": null,
   "id": "59a9b564",
   "metadata": {
    "papermill": {
     "duration": 0.012836,
     "end_time": "2024-03-15T13:47:38.725348",
     "exception": false,
     "start_time": "2024-03-15T13:47:38.712512",
     "status": "completed"
    },
    "tags": []
   },
   "outputs": [],
   "source": []
  }
 ],
 "metadata": {
  "kaggle": {
   "accelerator": "gpu",
   "dataSources": [
    {
     "datasetId": 2892866,
     "sourceId": 4987732,
     "sourceType": "datasetVersion"
    }
   ],
   "dockerImageVersionId": 30648,
   "isGpuEnabled": true,
   "isInternetEnabled": true,
   "language": "python",
   "sourceType": "notebook"
  },
  "kernelspec": {
   "display_name": "Python 3",
   "language": "python",
   "name": "python3"
  },
  "language_info": {
   "codemirror_mode": {
    "name": "ipython",
    "version": 3
   },
   "file_extension": ".py",
   "mimetype": "text/x-python",
   "name": "python",
   "nbconvert_exporter": "python",
   "pygments_lexer": "ipython3",
   "version": "3.10.13"
  },
  "papermill": {
   "default_parameters": {},
   "duration": 28.191209,
   "end_time": "2024-03-15T13:47:41.286721",
   "environment_variables": {},
   "exception": null,
   "input_path": "__notebook__.ipynb",
   "output_path": "__notebook__.ipynb",
   "parameters": {},
   "start_time": "2024-03-15T13:47:13.095512",
   "version": "2.5.0"
  }
 },
 "nbformat": 4,
 "nbformat_minor": 5
}
